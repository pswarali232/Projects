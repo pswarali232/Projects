{
  "nbformat": 4,
  "nbformat_minor": 0,
  "metadata": {
    "colab": {
      "provenance": [],
      "gpuType": "T4"
    },
    "kernelspec": {
      "name": "python3",
      "display_name": "Python 3"
    },
    "language_info": {
      "name": "python"
    },
    "accelerator": "GPU",
    "gpuClass": "standard"
  },
  "cells": [
    {
      "cell_type": "code",
      "execution_count": 2,
      "metadata": {
        "colab": {
          "base_uri": "https://localhost:8080/"
        },
        "id": "s8nERJnlTwmB",
        "outputId": "35865c04-69ff-4e52-c910-7cc9f7adaf5d"
      },
      "outputs": [
        {
          "output_type": "stream",
          "name": "stdout",
          "text": [
            "nvcc: NVIDIA (R) Cuda compiler driver\n",
            "Copyright (c) 2005-2022 NVIDIA Corporation\n",
            "Built on Wed_Sep_21_10:33:58_PDT_2022\n",
            "Cuda compilation tools, release 11.8, V11.8.89\n",
            "Build cuda_11.8.r11.8/compiler.31833905_0\n"
          ]
        }
      ],
      "source": [
        "!nvcc --version"
      ]
    },
    {
      "cell_type": "code",
      "source": [
        "!pip install git+https://github.com/andreinechaev/nvcc4jupyter.git"
      ],
      "metadata": {
        "colab": {
          "base_uri": "https://localhost:8080/"
        },
        "id": "y6MJJXQcVJFH",
        "outputId": "3ec2bbeb-2a54-4106-e435-5b84ab5c27d4"
      },
      "execution_count": 4,
      "outputs": [
        {
          "output_type": "stream",
          "name": "stdout",
          "text": [
            "Looking in indexes: https://pypi.org/simple, https://us-python.pkg.dev/colab-wheels/public/simple/\n",
            "Collecting git+https://github.com/andreinechaev/nvcc4jupyter.git\n",
            "  Cloning https://github.com/andreinechaev/nvcc4jupyter.git to /tmp/pip-req-build-6dq_6_jn\n",
            "  Running command git clone --filter=blob:none --quiet https://github.com/andreinechaev/nvcc4jupyter.git /tmp/pip-req-build-6dq_6_jn\n",
            "  Resolved https://github.com/andreinechaev/nvcc4jupyter.git to commit aac710a35f52bb78ab34d2e52517237941399eff\n",
            "  Preparing metadata (setup.py) ... \u001b[?25l\u001b[?25hdone\n",
            "Building wheels for collected packages: NVCCPlugin\n",
            "  Building wheel for NVCCPlugin (setup.py) ... \u001b[?25l\u001b[?25hdone\n",
            "  Created wheel for NVCCPlugin: filename=NVCCPlugin-0.0.2-py3-none-any.whl size=4287 sha256=1ac75ec62f8856b35ca50837d2ba2a90ef18d064f7f13f69feb74639505f4169\n",
            "  Stored in directory: /tmp/pip-ephem-wheel-cache-h3ud0b6o/wheels/a8/b9/18/23f8ef71ceb0f63297dd1903aedd067e6243a68ea756d6feea\n",
            "Successfully built NVCCPlugin\n",
            "Installing collected packages: NVCCPlugin\n",
            "Successfully installed NVCCPlugin-0.0.2\n"
          ]
        }
      ]
    },
    {
      "cell_type": "code",
      "source": [
        "%load_ext nvcc_plugin"
      ],
      "metadata": {
        "colab": {
          "base_uri": "https://localhost:8080/"
        },
        "id": "FxWYuG-XVP95",
        "outputId": "25c72376-dc8e-4351-fdf1-0f76cb44fb5d"
      },
      "execution_count": 5,
      "outputs": [
        {
          "output_type": "stream",
          "name": "stdout",
          "text": [
            "created output directory at /content/src\n",
            "Out bin /content/result.out\n"
          ]
        }
      ]
    },
    {
      "cell_type": "code",
      "source": [
        "%%cu\n",
        "#include<stdio.h>\n",
        "#include<cuda.h>\n",
        "__global__ void vectorAddition(int *x,int *y, int *z)\n",
        "{\n",
        "    int id=blockIdx.x * blockDim.x + threadIdx.x;\n",
        " \n",
        "    /* blockIdx.x gives the respective block id which starts from 0 */\n",
        "    /* threadIdx.x gives the respective thread id which starts from 0 */\n",
        "    /* blockDim.x gives the dimension of block i.e. number of threads in one block */\n",
        " \n",
        "    z[id]=x[id]+y[id]; \n",
        "    printf(\"Thread %d and Block %d : %d + %d = %d\\n\", threadIdx.x, blockIdx.x, x[id], y[id], z[id] );\n",
        "}\n",
        "int main()\n",
        "{\n",
        "    int a[6] = {10, 20, 45, 32, 10, 21};\n",
        "    int b[6] = {5, 6, 3, 51, 44, 10};\n",
        "    int c[6];\n",
        "    int *d,*e,*f;\n",
        "    int i;\n",
        "    /* printf(\"\\n Enter six elements of first array\\n\");\n",
        "     for(i=0;i<6;i++)\n",
        "     {\n",
        "         scanf(\"%d\",&a[i]);\n",
        "     }\n",
        "     printf(\"\\n Enter six elements of second array\\n\");\n",
        "         for(i=0;i<6;i++)\n",
        "         {\n",
        "             scanf(\"%d\",&b[i]);\n",
        "         }\n",
        "    */\n",
        " \n",
        "  /* cudaMalloc() allocates memory from Global memory on GPU */\n",
        "    cudaMalloc((void **)&d,6*sizeof(int));\n",
        "    cudaMalloc((void **)&e,6*sizeof(int));\n",
        "    cudaMalloc((void **)&f,6*sizeof(int));\n",
        " \n",
        "\n",
        " /* cudaMemcpy() copies the contents from destination to source. Here destination is GPU(d,e) and source is CPU(a,b) */\n",
        " cudaMemcpy(d,a,6*sizeof(int),cudaMemcpyHostToDevice);\n",
        " cudaMemcpy(e,b,6*sizeof(int),cudaMemcpyHostToDevice);\n",
        "\n",
        "/* call to kernel. Here 2 is number of blocks, 3 is the number of threads per block and d,e,f are the arguments */ \n",
        "    vectorAddition<<<2,3>>>(d,e,f);\n",
        " \n",
        " cudaMemcpy(c,f,6*sizeof(int),cudaMemcpyDeviceToHost);\n",
        "    printf(\"\\nSum of two arrays:\\n \");\n",
        "    for(i=0;i<6;i++)\n",
        "    {\n",
        "        printf(\"%d\\t\",c[i]);\n",
        "    }\n",
        "    cudaFree(d);\n",
        "    cudaFree(e);\n",
        "    cudaFree(f);\n",
        "    return 0;\n",
        "}\n"
      ],
      "metadata": {
        "colab": {
          "base_uri": "https://localhost:8080/"
        },
        "id": "XI4FVxQPVU0W",
        "outputId": "788e93da-bf2e-4cfd-e663-e70aa4b0714c"
      },
      "execution_count": 25,
      "outputs": [
        {
          "output_type": "stream",
          "name": "stdout",
          "text": [
            "Thread 0 and Block 1 : 32 + 51 = 83\n",
            "Thread 1 and Block 1 : 10 + 44 = 54\n",
            "Thread 2 and Block 1 : 21 + 10 = 31\n",
            "Thread 0 and Block 0 : 10 + 5 = 15\n",
            "Thread 1 and Block 0 : 20 + 6 = 26\n",
            "Thread 2 and Block 0 : 45 + 3 = 48\n",
            "\n",
            "Sum of two arrays:\n",
            " 15\t26\t48\t83\t54\t31\t\n"
          ]
        }
      ]
    }
  ]
}