{
  "nbformat": 4,
  "nbformat_minor": 0,
  "metadata": {
    "colab": {
      "provenance": [],
      "gpuType": "T4"
    },
    "kernelspec": {
      "name": "python3",
      "display_name": "Python 3"
    },
    "language_info": {
      "name": "python"
    },
    "accelerator": "GPU",
    "gpuClass": "standard"
  },
  "cells": [
    {
      "cell_type": "code",
      "source": [
        "!nvcc --version"
      ],
      "metadata": {
        "colab": {
          "base_uri": "https://localhost:8080/"
        },
        "id": "0U899YtNq3DO",
        "outputId": "374eab97-057c-4699-aad6-143ab2bd2fe2"
      },
      "execution_count": 2,
      "outputs": [
        {
          "output_type": "stream",
          "name": "stdout",
          "text": [
            "nvcc: NVIDIA (R) Cuda compiler driver\n",
            "Copyright (c) 2005-2022 NVIDIA Corporation\n",
            "Built on Wed_Sep_21_10:33:58_PDT_2022\n",
            "Cuda compilation tools, release 11.8, V11.8.89\n",
            "Build cuda_11.8.r11.8/compiler.31833905_0\n"
          ]
        }
      ]
    },
    {
      "cell_type": "code",
      "source": [
        "!pip install git+https://github.com/andreinechaev/nvcc4jupyter.git"
      ],
      "metadata": {
        "colab": {
          "base_uri": "https://localhost:8080/"
        },
        "id": "ro6qxrtCq-x7",
        "outputId": "45c68cf5-3619-4342-e393-bfadc32ba158"
      },
      "execution_count": 3,
      "outputs": [
        {
          "output_type": "stream",
          "name": "stdout",
          "text": [
            "Looking in indexes: https://pypi.org/simple, https://us-python.pkg.dev/colab-wheels/public/simple/\n",
            "Collecting git+https://github.com/andreinechaev/nvcc4jupyter.git\n",
            "  Cloning https://github.com/andreinechaev/nvcc4jupyter.git to /tmp/pip-req-build-duynhsr3\n",
            "  Running command git clone --filter=blob:none --quiet https://github.com/andreinechaev/nvcc4jupyter.git /tmp/pip-req-build-duynhsr3\n",
            "  Resolved https://github.com/andreinechaev/nvcc4jupyter.git to commit aac710a35f52bb78ab34d2e52517237941399eff\n",
            "  Preparing metadata (setup.py) ... \u001b[?25l\u001b[?25hdone\n",
            "Building wheels for collected packages: NVCCPlugin\n",
            "  Building wheel for NVCCPlugin (setup.py) ... \u001b[?25l\u001b[?25hdone\n",
            "  Created wheel for NVCCPlugin: filename=NVCCPlugin-0.0.2-py3-none-any.whl size=4287 sha256=97c6906e2f13d2f3830290ec81e46458adaa4d686451e0c31c1de18179323621\n",
            "  Stored in directory: /tmp/pip-ephem-wheel-cache-yzzjp8tt/wheels/a8/b9/18/23f8ef71ceb0f63297dd1903aedd067e6243a68ea756d6feea\n",
            "Successfully built NVCCPlugin\n",
            "Installing collected packages: NVCCPlugin\n",
            "Successfully installed NVCCPlugin-0.0.2\n"
          ]
        }
      ]
    },
    {
      "cell_type": "code",
      "source": [
        "%load_ext nvcc_plugin"
      ],
      "metadata": {
        "colab": {
          "base_uri": "https://localhost:8080/"
        },
        "id": "mrut7gTurEF-",
        "outputId": "7a0880f0-a53f-4262-ec45-644120d15ae8"
      },
      "execution_count": 4,
      "outputs": [
        {
          "output_type": "stream",
          "name": "stdout",
          "text": [
            "created output directory at /content/src\n",
            "Out bin /content/result.out\n"
          ]
        }
      ]
    },
    {
      "cell_type": "code",
      "execution_count": 5,
      "metadata": {
        "colab": {
          "base_uri": "https://localhost:8080/"
        },
        "id": "IudMMgtHlhVy",
        "outputId": "06628fb3-0422-4074-8518-0437af0565d4"
      },
      "outputs": [
        {
          "output_type": "stream",
          "name": "stdout",
          "text": [
            "\n",
            "Product of two matrices:\n",
            " 136\t239\t\n",
            "52\t91\t\n",
            "\n"
          ]
        }
      ],
      "source": [
        "%%cu\n",
        "#include<stdio.h>\n",
        "#include<cuda.h>\n",
        "#define row1 2 /* Number of rows of first matrix */\n",
        "#define col1 3 /* Number of columns of first matrix */\n",
        "#define row2 3 /* Number of rows of second matrix */\n",
        "#define col2 2 /* Number of columns of second matrix */\n",
        "\n",
        "__global__ void matproduct(int *l,int *m, int *n)\n",
        "{\n",
        "    int x=blockIdx.x;\n",
        "    int y=blockIdx.y;\n",
        "    int k;\n",
        "  \n",
        "n[col2*y+x]=0;\n",
        "for(k=0;k<col1;k++)\n",
        "   {\n",
        "    n[col2*y+x]=n[col2*y+x]+l[col1*y+k]*m[col2*k+x];\n",
        "   }\n",
        "}\n",
        "\n",
        "int main()\n",
        "{\n",
        "    int a[row1][col1] = {{5,6,7},{1,2,3}};\n",
        "    int b[row2][col2] = {{1,5}, {9,10}, {11, 22}};\n",
        "    int c[row1][col2];\n",
        "    int *d,*e,*f;\n",
        "    int i,j;\n",
        "\n",
        "    /*\n",
        "    printf(\"\\n Enter elements of first matrix of size 2*3\\n\");\n",
        "    for(i=0;i<row1;i++)\n",
        "    {\n",
        "        for(j=0;j<col1;j++)\n",
        "            {\n",
        "                scanf(\"%d\",&a[i][j]);\n",
        "            }\n",
        "    }\n",
        "    printf(\"\\n Enter elements of second matrix of size 3*2\\n\");\n",
        "        for(i=0;i<row2;i++)\n",
        "        {\n",
        "            for(j=0;j<col2;j++)\n",
        "                {\n",
        "                    scanf(\"%d\",&b[i][j]);\n",
        "                }\n",
        "        }\n",
        "\n",
        "    */\n",
        "    cudaMalloc((void **)&d,row1*col1*sizeof(int));\n",
        "    cudaMalloc((void **)&e,row2*col2*sizeof(int));\n",
        "    cudaMalloc((void **)&f,row1*col2*sizeof(int));\n",
        "\n",
        " cudaMemcpy(d,a,row1*col1*sizeof(int),cudaMemcpyHostToDevice);\n",
        " cudaMemcpy(e,b,row2*col2*sizeof(int),cudaMemcpyHostToDevice);\n",
        "\n",
        "dim3 grid(col2,row1);\n",
        "/* Here we are defining two dimensional Grid(collection of blocks) structure. Syntax is dim3 grid(no. of columns,no. of rows) */\n",
        "\n",
        "    matproduct<<<grid,1>>>(d,e,f);\n",
        "\n",
        " cudaMemcpy(c,f,row1*col2*sizeof(int),cudaMemcpyDeviceToHost);\n",
        "    printf(\"\\nProduct of two matrices:\\n \");\n",
        "    for(int i=0;i<row1;i++)\n",
        "    {\n",
        "        for(int j=0;j<col2;j++)\n",
        "        {\n",
        "              printf(\"%d\\t\",c[i][j]);\n",
        "        }\n",
        "        printf(\"\\n\");\n",
        "    }\n",
        "\n",
        "    cudaFree(d);\n",
        "    cudaFree(e);\n",
        "    cudaFree(f);\n",
        "\n",
        "    return 0;\n",
        "}"
      ]
    }
  ]
}